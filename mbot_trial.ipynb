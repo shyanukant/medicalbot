{
 "cells": [
  {
   "cell_type": "code",
   "execution_count": 4,
   "id": "43f5c263",
   "metadata": {},
   "outputs": [
    {
     "ename": "ModuleNotFoundError",
     "evalue": "No module named 'langchain'",
     "output_type": "error",
     "traceback": [
      "\u001b[0;31m---------------------------------------------------------------------------\u001b[0m",
      "\u001b[0;31mModuleNotFoundError\u001b[0m                       Traceback (most recent call last)",
      "Cell \u001b[0;32mIn[4], line 1\u001b[0m\n\u001b[0;32m----> 1\u001b[0m \u001b[38;5;28;01mfrom\u001b[39;00m\u001b[38;5;250m \u001b[39m\u001b[38;5;21;01mlangchain\u001b[39;00m\u001b[38;5;250m \u001b[39m\u001b[38;5;28;01mimport\u001b[39;00m PromptTemple\n\u001b[1;32m      2\u001b[0m \u001b[38;5;28;01mfrom\u001b[39;00m\u001b[38;5;250m \u001b[39m\u001b[38;5;21;01mlangchain\u001b[39;00m\u001b[38;5;21;01m.\u001b[39;00m\u001b[38;5;21;01mchains\u001b[39;00m\u001b[38;5;250m \u001b[39m\u001b[38;5;28;01mimport\u001b[39;00m RetrievalQA\n\u001b[1;32m      3\u001b[0m \u001b[38;5;28;01mfrom\u001b[39;00m\u001b[38;5;250m \u001b[39m\u001b[38;5;21;01mlangchain\u001b[39;00m\u001b[38;5;21;01m.\u001b[39;00m\u001b[38;5;21;01membeddings\u001b[39;00m\u001b[38;5;250m \u001b[39m\u001b[38;5;28;01mimport\u001b[39;00m HuggingFaceEmbeddings \u001b[38;5;66;03m# create embedding\u001b[39;00m\n",
      "\u001b[0;31mModuleNotFoundError\u001b[0m: No module named 'langchain'"
     ]
    }
   ],
   "source": [
    "from langchain import PromptTemple\n",
    "from langchain.chains import RetrievalQA\n",
    "from langchain.embeddings import HuggingFaceEmbeddings # create embedding\n",
    "from langchain.vectorstores import pinecore # vector store form database\n",
    "import pinecore # vector database\n",
    "from langchain.document_loaders import DirectoryLoader, PyPDFLoader # for uploading document\n",
    "from langchain.text_splitter import RecursiveCharacterTextSplitter # creating chunks from ducument\n",
    "from langchain.llms import CTransformers # load models\n",
    "from langchain.prompts import PromptTemplate"
   ]
  },
  {
   "cell_type": "markdown",
   "id": "c368ffc7",
   "metadata": {},
   "source": [
    "## Import Pinecore Credentials"
   ]
  },
  {
   "cell_type": "code",
   "execution_count": null,
   "id": "a2e02bf2",
   "metadata": {},
   "outputs": [
    {
     "ename": "",
     "evalue": "",
     "output_type": "error",
     "traceback": [
      "\u001b[1;31mRunning cells with 'venv (Python 3.10.11)' requires the ipykernel package.\n",
      "\u001b[1;31mInstall 'ipykernel' into the Python environment. \n",
      "\u001b[1;31mCommand: 'c:/Users/admin/Desktop/medicalbot/venv/Scripts/python.exe -m pip install ipykernel -U --force-reinstall'"
     ]
    }
   ],
   "source": [
    "PINCORE_API_KEY = \"\"\n",
    "PINCORE_API_ENV = \"\""
   ]
  },
  {
   "cell_type": "code",
   "execution_count": null,
   "id": "f1496342",
   "metadata": {},
   "outputs": [],
   "source": [
    "# Extract date frpm pdf file \n",
    "\n",
    "def load_data(data):\n",
    "    loader = DirectoryLoader(data, glob = \"*.pdf\", loader_cls = PyPDFLoader)\n",
    "    document = loader.load()\n",
    "    return document"
   ]
  },
  {
   "cell_type": "code",
   "execution_count": null,
   "id": "80949801",
   "metadata": {},
   "outputs": [],
   "source": [
    "# extracted data \n",
    "extracted_data = load_data('data/')"
   ]
  },
  {
   "cell_type": "code",
   "execution_count": null,
   "id": "7738328b",
   "metadata": {},
   "outputs": [],
   "source": [
    "# create text split\n",
    "def text_split(extracted_data):\n",
    "    text_splitter = RecursiveCharacterTextSplitter(chunk_size = 500, chunk_overlap = 20)\n",
    "    text_chunks = text_splitter.split_documents(extracted_data)\n",
    "    return text_chunks"
   ]
  },
  {
   "cell_type": "code",
   "execution_count": null,
   "id": "07fcc463",
   "metadata": {},
   "outputs": [],
   "source": [
    "text_chunks = text_split(extracted_data)\n",
    "print(\"length of chunks\" , len(text_chunks))"
   ]
  },
  {
   "cell_type": "code",
   "execution_count": null,
   "id": "f5372e47",
   "metadata": {},
   "outputs": [],
   "source": [
    "# domenload embeddings model\n",
    "def download_huggingface_embeddings():\n",
    "    embeddings_model = HuggingFaceEmbeddings(model_name=\"sentence-transformers/all-MiniLM-L6-v2\")\n",
    "    return embeddings_model"
   ]
  },
  {
   "cell_type": "code",
   "execution_count": null,
   "id": "edf5196b",
   "metadata": {},
   "outputs": [],
   "source": [
    "embeddings = download_huggingface_embeddings()\n",
    "embeddings"
   ]
  },
  {
   "cell_type": "code",
   "execution_count": null,
   "id": "f5e3a763",
   "metadata": {},
   "outputs": [],
   "source": [
    "query_result = embeddings.embed_query(\"Hello_world\")\n",
    "print(\"length\", len(query_result))"
   ]
  },
  {
   "cell_type": "code",
   "execution_count": null,
   "id": "5fec0087",
   "metadata": {},
   "outputs": [],
   "source": [
    "# initail pincore \n",
    "pinecore.init(api_key = PINCORE_API_KEY, environment=PINCORE_API_ENV)\n",
    "index_name = \"text\" # enter index name from pincore database\n",
    "\n",
    "# Create Embeddings for each of the text chunks and storing on pinecore vector database\n",
    "docsearch = Pinecore.from_texts([t.page_content for t in text_chunks], embeddings, index_name=index_name)"
   ]
  },
  {
   "cell_type": "code",
   "execution_count": null,
   "id": "452aff50",
   "metadata": {},
   "outputs": [],
   "source": [
    "# load data form vecotr database if load\n",
    "docsearch = Pinecore.from_existing_index(index_name, embeddings)\n",
    "query = \"what is allergies\"\n",
    "docs = docsearch.similarity_search(query, k=3)\n",
    "print('results', docs)\n"
   ]
  },
  {
   "cell_type": "code",
   "execution_count": null,
   "id": "93fd4b72",
   "metadata": {},
   "outputs": [
    {
     "ename": "",
     "evalue": "",
     "output_type": "error",
     "traceback": [
      "\u001b[1;31mRunning cells with 'venv (Python 3.10.11)' requires the ipykernel package.\n",
      "\u001b[1;31mInstall 'ipykernel' into the Python environment. \n",
      "\u001b[1;31mCommand: 'c:/Users/admin/Desktop/medicalbot/venv/Scripts/python.exe -m pip install ipykernel -U --force-reinstall'"
     ]
    }
   ],
   "source": [
    "prompt_template = \"\"\"use this piece of informations to ansers user question.\n",
    "if you don't know answer so just say i don't know , don't make answer own.\n",
    "context : {context}\n",
    "questions : {question}\n",
    "\n",
    "only return helpfull answer .\n",
    "Helpfull Answer: \n",
    "\"\"\""
   ]
  },
  {
   "cell_type": "code",
   "execution_count": null,
   "id": "dc57859e",
   "metadata": {},
   "outputs": [],
   "source": [
    "prompt = PromptTemplate(template = prompt_template, input_variables=['context', 'question'])\n",
    "chain_type_kwargs = {\"prompt\" : prompt}"
   ]
  },
  {
   "cell_type": "code",
   "execution_count": null,
   "id": "eeaaa279",
   "metadata": {},
   "outputs": [],
   "source": [
    "llm = CTransformers(model= \"model/llama-2-7b.chat.ggmlv3.q4_0\", \n",
    "                    model_type= \"llama\", \n",
    "                    config = {'max_new_tokens':512, 'temperature': 0.8})"
   ]
  },
  {
   "cell_type": "code",
   "execution_count": null,
   "id": "65278977",
   "metadata": {},
   "outputs": [],
   "source": [
    "qa = RetrievalQA.from_chain_type(\n",
    "    llm = llm, \n",
    "    chain_type = \"stuff\",\n",
    "    retriever=docsearch.as_retriever(search_kwargs={'k':2}), # k means two relwent answers\n",
    "    return_source_documents=True,\n",
    "    chain_type_kwargs=chain_type_kwargs\n",
    ")"
   ]
  },
  {
   "cell_type": "code",
   "execution_count": null,
   "id": "b6255a02",
   "metadata": {},
   "outputs": [
    {
     "ename": "",
     "evalue": "",
     "output_type": "error",
     "traceback": [
      "\u001b[1;31mRunning cells with 'venv (Python 3.10.11)' requires the ipykernel package.\n",
      "\u001b[1;31mInstall 'ipykernel' into the Python environment. \n",
      "\u001b[1;31mCommand: 'c:/Users/admin/Desktop/medicalbot/venv/Scripts/python.exe -m pip install ipykernel -U --force-reinstall'"
     ]
    }
   ],
   "source": [
    "while True:\n",
    "    user_input = input(f\"Input Prompt : \")\n",
    "    result = qa({'query': user_input})\n",
    "    print( \"response\", result['result'] )\n"
   ]
  },
  {
   "cell_type": "code",
   "execution_count": null,
   "id": "b111858c",
   "metadata": {},
   "outputs": [],
   "source": []
  }
 ],
 "metadata": {
  "kernelspec": {
   "display_name": "Python 3",
   "language": "python",
   "name": "python3"
  },
  "language_info": {
   "codemirror_mode": {
    "name": "ipython",
    "version": 3
   },
   "file_extension": ".py",
   "mimetype": "text/x-python",
   "name": "python",
   "nbconvert_exporter": "python",
   "pygments_lexer": "ipython3",
   "version": "3.10.12"
  }
 },
 "nbformat": 4,
 "nbformat_minor": 5
}
